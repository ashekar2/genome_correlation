{
 "cells": [
  {
   "cell_type": "code",
   "execution_count": 120,
   "metadata": {
    "collapsed": true
   },
   "outputs": [],
   "source": [
    "import matplotlib.pyplot as plt \n",
    "import numpy as np \n",
    "import pandas as pd\n",
    "from sklearn import decomposition\n",
    "from sklearn import metrics"
   ]
  },
  {
   "cell_type": "code",
   "execution_count": 121,
   "metadata": {},
   "outputs": [],
   "source": [
    "testfile='../data/data_set_ALL_AML_independent.csv'\n",
    "trainfile='../data/data_set_ALL_AML_train.csv'\n",
    "patient_cancer='../data/actual.csv'\n",
    "\n",
    "train = pd.read_csv(trainfile)\n",
    "test = pd.read_csv(testfile)\n",
    "patient_cancer = pd.read_csv(patient_cancer)"
   ]
  },
  {
   "cell_type": "code",
   "execution_count": 122,
   "metadata": {},
   "outputs": [],
   "source": [
    "train_keepers = [col for col in train.columns if \"call\" not in col]\n",
    "test_keepers = [col for col in test.columns if \"call\" not in col]\n",
    "\n",
    "train = train[train_keepers]\n",
    "test = test[test_keepers]"
   ]
  },
  {
   "cell_type": "code",
   "execution_count": 123,
   "metadata": {},
   "outputs": [],
   "source": [
    "gene_description = train['Gene Description']\n",
    "gene_accession_number = train['Gene Accession Number']\n",
    "train = train.drop(['Gene Description','Gene Accession Number'],axis=1)\n",
    "test = test.drop(['Gene Description','Gene Accession Number'],axis=1)\n",
    "train = train.transpose()\n",
    "test = test.transpose()"
   ]
  },
  {
   "cell_type": "markdown",
   "metadata": {},
   "source": [
    "### PCA Analysis"
   ]
  },
  {
   "cell_type": "code",
   "execution_count": 124,
   "metadata": {
    "collapsed": true
   },
   "outputs": [],
   "source": [
    "def _pca(data, num_comp):\n",
    "    pca = PCA(n_components=NUM_COMPONENTS)\n",
    "    pca.fit(data)\n",
    "    data_pca = pca.transform(data)\n",
    "    return data_pca"
   ]
  },
  {
   "cell_type": "code",
   "execution_count": 125,
   "metadata": {},
   "outputs": [],
   "source": [
    "from sklearn.decomposition import PCA\n",
    "NUM_COMPONENTS = 2\n",
    "# train\n",
    "train_pca = _pca(train, NUM_COMPONENTS)\n",
    "test_pca = _pca(test, NUM_COMPONENTS)\n",
    "\n"
   ]
  },
  {
   "cell_type": "code",
   "execution_count": 126,
   "metadata": {},
   "outputs": [],
   "source": [
    "# patient cancer labels to 0 (ALL) and 1 (AML)\n",
    "patient_cancer = np.array(patient_cancer)\n",
    "patient_labels = []\n",
    "for p in patient_cancer:\n",
    "    if p[1] == 'ALL':\n",
    "        patient_labels.append(0)\n",
    "    else:\n",
    "        patient_labels.append(1)"
   ]
  },
  {
   "cell_type": "code",
   "execution_count": 127,
   "metadata": {},
   "outputs": [
    {
     "data": {
      "image/png": "[encoded data removed]",
      "text/plain": [
       "<matplotlib.figure.Figure at 0x1a1fc2e710>"
      ]
     },
     "metadata": {},
     "output_type": "display_data"
    }
   ],
   "source": [
    "train_pca.shape\n",
    "plt.scatter(train_pca[:,0], train_pca[:,1])\n",
    "for i,p in enumerate(train_pca):\n",
    "    if patient_labels[i] == 0:\n",
    "        plt.scatter(train_pca[i,0], train_pca[i,1], color='r', label='ALL')\n",
    "    else:\n",
    "        plt.scatter(train_pca[i,0], train_pca[i,1], color = 'b', label='AML')\n",
    "\n",
    "plt.show()"
   ]
  },
  {
   "cell_type": "markdown",
   "metadata": {},
   "source": [
    "### Naive Bayes Classifier"
   ]
  },
  {
   "cell_type": "code",
   "execution_count": 128,
   "metadata": {},
   "outputs": [],
   "source": [
    "from sklearn.naive_bayes import GaussianNB\n",
    "clf = GaussianNB()\n",
    "clf.fit(train_pca, patient_labels[0:len(train_pca)])\n",
    "predicted = clf.predict(test_pca)\n",
    "test_labels = patient_labels[len(train_pca):]"
   ]
  },
  {
   "cell_type": "code",
   "execution_count": 129,
   "metadata": {},
   "outputs": [
    {
     "name": "stdout",
     "output_type": "stream",
     "text": [
      "             precision    recall  f1-score   support\n",
      "\n",
      "          0       0.61      0.70      0.65        20\n",
      "          1       0.45      0.36      0.40        14\n",
      "\n",
      "avg / total       0.55      0.56      0.55        34\n",
      "\n"
     ]
    }
   ],
   "source": [
    "print(metrics.classification_report(test_labels, predicted))"
   ]
  },
  {
   "cell_type": "markdown",
   "metadata": {},
   "source": [
    "### SVM Classifier"
   ]
  },
  {
   "cell_type": "code",
   "execution_count": 131,
   "metadata": {},
   "outputs": [
    {
     "name": "stdout",
     "output_type": "stream",
     "text": [
      "             precision    recall  f1-score   support\n",
      "\n",
      "          0       0.59      1.00      0.74        20\n",
      "          1       0.00      0.00      0.00        14\n",
      "\n",
      "avg / total       0.35      0.59      0.44        34\n",
      "\n"
     ]
    }
   ],
   "source": [
    "from sklearn import svm\n",
    "clf = svm.SVC()\n",
    "clf.fit(train_pca, patient_labels[0:len(train_pca)])\n",
    "predicted = clf.predict(test_pca)\n",
    "print(metrics.classification_report(test_labels, predicted))"
   ]
  },
  {
   "cell_type": "code",
   "execution_count": 132,
   "metadata": {},
   "outputs": [
    {
     "data": {
      "text/plain": [
       "array([0, 0, 0, 0, 0, 0, 0, 0, 0, 0, 0, 0, 0, 0, 0, 0, 0, 0, 0, 0, 0, 0, 0,\n",
       "       0, 0, 0, 0, 0, 0, 0, 0, 0, 0, 0])"
      ]
     },
     "execution_count": 132,
     "metadata": {},
     "output_type": "execute_result"
    }
   ],
   "source": [
    "predicted"
   ]
  },
  {
   "cell_type": "code",
   "execution_count": null,
   "metadata": {
    "collapsed": true
   },
   "outputs": [],
   "source": []
  }
 ],
 "metadata": {
  "kernelspec": {
   "display_name": "Python 2",
   "language": "python",
   "name": "python2"
  },
  "language_info": {
   "codemirror_mode": {
    "name": "ipython",
    "version": 2
   },
   "file_extension": ".py",
   "mimetype": "text/x-python",
   "name": "python",
   "nbconvert_exporter": "python",
   "pygments_lexer": "ipython2",
   "version": "2.7.14"
  }
 },
 "nbformat": 4,
 "nbformat_minor": 2
}
