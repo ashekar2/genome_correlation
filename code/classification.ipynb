{
 "cells": [
  {
   "cell_type": "code",
   "execution_count": 3,
   "metadata": {
    "collapsed": true
   },
   "outputs": [],
   "source": [
    "import matplotlib.pyplot as plt \n",
    "import numpy as np \n",
    "import pandas as pd\n",
    "from sklearn import decomposition\n",
    "from sklearn import metrics\n",
    "from sklearn import preprocessing"
   ]
  },
  {
   "cell_type": "code",
   "execution_count": 4,
   "metadata": {
    "collapsed": true
   },
   "outputs": [],
   "source": [
    "# METADATA \n",
    "DATASET = 0"
   ]
  },
  {
   "cell_type": "code",
   "execution_count": 5,
   "metadata": {
    "collapsed": true
   },
   "outputs": [],
   "source": [
    "def whiten_data(data):\n",
    "    \"\"\"\n",
    "    Columns have zero mean and unit variance\n",
    "    \"\"\"\n",
    "    return preprocessing.scale(data)"
   ]
  },
  {
   "cell_type": "code",
   "execution_count": 8,
   "metadata": {},
   "outputs": [],
   "source": [
    "if DATASET == 0:\n",
    "    testfile='../data/data_set_ALL_AML_independent.csv'\n",
    "    trainfile='../data/data_set_ALL_AML_train.csv'\n",
    "    patient_cancer='../data/actual.csv'\n",
    "    \n",
    "    # load csv\n",
    "    train = pd.read_csv(trainfile)\n",
    "    test = pd.read_csv(testfile)\n",
    "    patient_cancer = pd.read_csv(patient_cancer)\n",
    "    \n",
    "    # filter columns\n",
    "    train_keepers = [col for col in train.columns if \"call\" not in col]\n",
    "    test_keepers = [col for col in test.columns if \"call\" not in col]\n",
    "    train = train[train_keepers]\n",
    "    test = test[test_keepers]\n",
    "    \n",
    "    # remove columns with text (Gene names)\n",
    "    gene_description = train['Gene Description']\n",
    "    gene_accession_number = train['Gene Accession Number']\n",
    "    train = train.drop(['Gene Description','Gene Accession Number'],axis=1)\n",
    "    test = test.drop(['Gene Description','Gene Accession Number'],axis=1)\n",
    "    \n",
    "    # transpose data to have each row represent a patient\n",
    "    train = train.transpose()\n",
    "    test = test.transpose()\n",
    "    \n",
    "    # zero mean and unit variance the data\n",
    "    train = whiten_data(train)\n",
    "    test = whiten_data(test)\n",
    "    \n",
    "    # initialize the labels for the data\n",
    "    # patient cancer labels to 0 (ALL) and 1 (AML)\n",
    "    patient_cancer = np.array(patient_cancer)\n",
    "    patient_labels = []\n",
    "    for p in patient_cancer:\n",
    "        if p[1] == 'ALL':\n",
    "            patient_labels.append(0)\n",
    "        else:\n",
    "            patient_labels.append(1)\n",
    "    train_labels = patient_labels[0:len(train)]\n",
    "    test_labels = patient_labels[len(train):]"
   ]
  },
  {
   "cell_type": "markdown",
   "metadata": {},
   "source": [
    "### PCA Analysis"
   ]
  },
  {
   "cell_type": "code",
   "execution_count": 9,
   "metadata": {
    "collapsed": true
   },
   "outputs": [],
   "source": [
    "from sklearn.decomposition import PCA\n",
    "NUM_COMPONENTS = 2\n",
    "def _pca(data, num_comp):\n",
    "    pca = PCA(n_components=num_comp)\n",
    "    pca.fit(data)\n",
    "    data_pca = pca.transform(data)\n",
    "    return data_pca"
   ]
  },
  {
   "cell_type": "code",
   "execution_count": 10,
   "metadata": {
    "collapsed": true
   },
   "outputs": [],
   "source": [
    "# train\n",
    "train_pca = _pca(train, NUM_COMPONENTS)\n",
    "test_pca = _pca(test, NUM_COMPONENTS)"
   ]
  },
  {
   "cell_type": "code",
   "execution_count": 20,
   "metadata": {},
   "outputs": [
    {
     "data": {
      "image/png": "[encoded data removed]",
      "text/plain": [
       "<matplotlib.figure.Figure at 0x10bd8c090>"
      ]
     },
     "metadata": {},
     "output_type": "display_data"
    }
   ],
   "source": [
    "train_pca.shape\n",
    "plt.scatter(train_pca[:,0], train_pca[:,1])\n",
    "for i,p in enumerate(train_pca):\n",
    "    if train_labels[i] == 0:\n",
    "        plt.scatter(train_pca[i,0], train_pca[i,1], color='r', label='ALL')\n",
    "    else:\n",
    "        plt.scatter(train_pca[i,0], train_pca[i,1], color = 'b', label='AML')\n",
    "\n",
    "plt.show()"
   ]
  },
  {
   "cell_type": "markdown",
   "metadata": {},
   "source": [
    "### Naive Bayes Classifier"
   ]
  },
  {
   "cell_type": "code",
   "execution_count": 21,
   "metadata": {
    "collapsed": true
   },
   "outputs": [],
   "source": [
    "from sklearn.naive_bayes import GaussianNB\n",
    "from sklearn.metrics import accuracy_score\n",
    "def _naive_bayes(ftrain, ftest):\n",
    "    clf = GaussianNB()\n",
    "    clf.fit(ftrain, train_labels)\n",
    "    predicted = clf.predict(ftest)\n",
    "    acc = accuracy_score(test_labels, predicted)\n",
    "#     print(metrics.classification_report(test_labels, predicted))\n",
    "    return acc"
   ]
  },
  {
   "cell_type": "markdown",
   "metadata": {},
   "source": [
    "#### Accuracy VS Number of Components for Naive Bayes"
   ]
  },
  {
   "cell_type": "code",
   "execution_count": 22,
   "metadata": {},
   "outputs": [
    {
     "data": {
      "image/png": "[encoded data removed]",
      "text/plain": [
       "<matplotlib.figure.Figure at 0x11269a910>"
      ]
     },
     "metadata": {},
     "output_type": "display_data"
    }
   ],
   "source": [
    "max_components = 33\n",
    "accuracies = []\n",
    "for i in range(max_components):\n",
    "    nc = i + 1\n",
    "    nc_pca_train = _pca(train, nc)\n",
    "    nc_pca_test = _pca(test, nc)\n",
    "    accuracies.append(_naive_bayes(nc_pca_train, nc_pca_test))\n",
    "plt.plot([i+1 for i in range(max_components)], accuracies)\n",
    "plt.show()\n",
    "    "
   ]
  },
  {
   "cell_type": "markdown",
   "metadata": {},
   "source": [
    "### SVM Classifier"
   ]
  },
  {
   "cell_type": "code",
   "execution_count": 33,
   "metadata": {},
   "outputs": [
    {
     "name": "stdout",
     "output_type": "stream",
     "text": [
      "             precision    recall  f1-score   support\n",
      "\n",
      "          0       0.62      1.00      0.77        20\n",
      "          1       1.00      0.14      0.25        14\n",
      "\n",
      "avg / total       0.78      0.65      0.56        34\n",
      "\n"
     ]
    }
   ],
   "source": [
    "from sklearn import svm\n",
    "clf = svm.SVC()\n",
    "# Try training on entire feature set\n",
    "clf.fit(train, train_labels)\n",
    "predicted = clf.predict(test)\n",
    "print(metrics.classification_report(test_labels, predicted))\n",
    "\n",
    "def _svm(ftrain, ftest):\n",
    "    clf = svm.SVC()\n",
    "    clf.fit(ftrain, train_labels)\n",
    "    predicted = clf.predict(ftest)\n",
    "    acc = accuracy_score(test_labels, predicted)\n",
    "    return acc"
   ]
  },
  {
   "cell_type": "code",
   "execution_count": 30,
   "metadata": {},
   "outputs": [
    {
     "name": "stdout",
     "output_type": "stream",
     "text": [
      "[0 0 0 0 0 0 0 0 0 0 0 0 0 0 0 0 0 0 0 0 0 0 1 1 0 0 0 0 0 0 0 0 0 0]\n"
     ]
    }
   ],
   "source": [
    "print predicted"
   ]
  },
  {
   "cell_type": "markdown",
   "metadata": {},
   "source": [
    "#### Accuracy VS Number of Components for SVM"
   ]
  },
  {
   "cell_type": "code",
   "execution_count": 26,
   "metadata": {},
   "outputs": [
    {
     "data": {
      "image/png": "[encoded data removed]",
      "text/plain": [
       "<matplotlib.figure.Figure at 0x10d82bf50>"
      ]
     },
     "metadata": {},
     "output_type": "display_data"
    }
   ],
   "source": [
    "max_components = 33\n",
    "accuracies = []\n",
    "for i in range(max_components):\n",
    "    nc = i + 1\n",
    "    nc_pca_train = _pca(train, nc)\n",
    "    nc_pca_test = _pca(test, nc)\n",
    "    accuracies.append(_svm(nc_pca_train, nc_pca_test))\n",
    "plt.plot([i+1 for i in range(max_components)], accuracies)\n",
    "plt.show()\n"
   ]
  },
  {
   "cell_type": "markdown",
   "metadata": {
    "collapsed": true
   },
   "source": [
    "## F Score Feature Selection"
   ]
  },
  {
   "cell_type": "code",
   "execution_count": 112,
   "metadata": {
    "collapsed": true
   },
   "outputs": [],
   "source": [
    "import fscore_select_k as fsk"
   ]
  },
  {
   "cell_type": "code",
   "execution_count": 113,
   "metadata": {},
   "outputs": [],
   "source": [
    "h, w = train.shape\n",
    "fsk_mat = np.zeros((h, w+1))\n",
    "fsk_mat[:,:w] = train\n",
    "fsk_mat[:, w] = train_labels\n",
    "k = 50"
   ]
  },
  {
   "cell_type": "code",
   "execution_count": null,
   "metadata": {},
   "outputs": [],
   "source": [
    "fsk_output = fsk.GeneSelection(fsk_mat,50)\n",
    "ordered_fscore_columns = [f[0] for f in fsk_output.gene_f_vals] # sorted list of f scores with the column they correspond to"
   ]
  },
  {
   "cell_type": "code",
   "execution_count": null,
   "metadata": {
    "collapsed": true
   },
   "outputs": [],
   "source": [
    "# Visualize for classifier X, how does accuracy vary with number of features selected (1 to k)\n",
    "num_components = 30\n",
    "fs_nb_accuracies = []\n",
    "for i in range(num_components):\n",
    "    nc = i + 1\n",
    "    fs_train = train[:, ordered_fscore_columns[:nc]]\n",
    "    fs_test = test[:, ordered_fscore_columns[:nc]]\n",
    "    fs_nb_accuracies.append(_naive_bayes(fs_train, fs_test))\n",
    "plt.plot([i+1 for i in range(num_components)], fs_nb_accuracies)\n",
    "plt.show()"
   ]
  },
  {
   "cell_type": "code",
   "execution_count": null,
   "metadata": {
    "collapsed": true
   },
   "outputs": [],
   "source": [
    "num_components = 30\n",
    "fs_svm_accuracies = []\n",
    "for i in range(num_components):\n",
    "    nc = i + 1\n",
    "    fs_train = train[:, ordered_fscore_columns[:nc]]\n",
    "    fs_test = test[:, ordered_fscore_columns[:nc]]\n",
    "    fs_svm_accuracies.append(_svm(fs_train, fs_test))\n",
    "plt.plot([i+1 for i in range(num_components)], fs_svm_accuracies)\n",
    "plt.show()"
   ]
  },
  {
   "cell_type": "markdown",
   "metadata": {},
   "source": [
    "## DPP Feature Selection"
   ]
  },
  {
   "cell_type": "code",
   "execution_count": 65,
   "metadata": {},
   "outputs": [],
   "source": [
    "import sys\n",
    "sys.path.append(\"./dpp\")\n",
    "import dpp"
   ]
  },
  {
   "cell_type": "code",
   "execution_count": 101,
   "metadata": {},
   "outputs": [],
   "source": [
    "# sigmas = [0.0001, 0.1, 1, 2, 10]\n",
    "sigmas = [1]\n",
    "k = 1\n",
    "train_cov = np.abs(np.cov(train.T))\n",
    "gene_indices = [i for i in range(train.shape[1])]"
   ]
  },
  {
   "cell_type": "markdown",
   "metadata": {},
   "source": [
    "### Train different classifiers on dpp features."
   ]
  },
  {
   "cell_type": "code",
   "execution_count": 109,
   "metadata": {},
   "outputs": [
    {
     "data": {
      "image/png": "[encoded data removed]",
      "text/plain": [
       "<matplotlib.figure.Figure at 0x112926b10>"
      ]
     },
     "metadata": {},
     "output_type": "display_data"
    }
   ],
   "source": [
    "# Naive Bayes\n",
    "dpp_nb_accuracies = []\n",
    "num_components = 30\n",
    "for i in range(num_components):\n",
    "    nc = i+1\n",
    "    selected_features = dpp.sample_k(gene_indices, train_cov, nc, max_nb_iterations=20000)  \n",
    "    dpp_train = train[:, selected_features]\n",
    "    dpp_test = test[:, selected_features]\n",
    "    dpp_nb_accuracies.append(_naive_bayes(dpp_train, dpp_test))\n",
    "plt.plot([i+1 for i in range(num_components)], dpp_nb_accuracies)\n",
    "plt.show()\n"
   ]
  },
  {
   "cell_type": "code",
   "execution_count": 111,
   "metadata": {},
   "outputs": [
    {
     "data": {
      "image/png": "[encoded data removed]",
      "text/plain": [
       "<matplotlib.figure.Figure at 0x1126dc2d0>"
      ]
     },
     "metadata": {},
     "output_type": "display_data"
    }
   ],
   "source": [
    "# SVM\n",
    "dpp_svm_accuracies = []\n",
    "num_components = 10\n",
    "for i in range(num_components):\n",
    "    nc = i+1\n",
    "    selected_features = dpp.sample_k(gene_indices, train_cov, nc, max_nb_iterations=20000)  \n",
    "    dpp_train = train[:, selected_features]\n",
    "    dpp_test = test[:, selected_features]\n",
    "    dpp_svm_accuracies.append(_svm(dpp_train, dpp_test))\n",
    "plt.plot([i+1 for i in range(num_components)], dpp_svm_accuracies)\n",
    "plt.show()"
   ]
  },
  {
   "cell_type": "code",
   "execution_count": null,
   "metadata": {
    "collapsed": true
   },
   "outputs": [],
   "source": []
  }
 ],
 "metadata": {
  "kernelspec": {
   "display_name": "Python 2",
   "language": "python",
   "name": "python2"
  },
  "language_info": {
   "codemirror_mode": {
    "name": "ipython",
    "version": 2
   },
   "file_extension": ".py",
   "mimetype": "text/x-python",
   "name": "python",
   "nbconvert_exporter": "python",
   "pygments_lexer": "ipython2",
   "version": "2.7.14"
  }
 },
 "nbformat": 4,
 "nbformat_minor": 2
}
