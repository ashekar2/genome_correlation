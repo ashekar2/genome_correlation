{
 "cells": [
  {
   "cell_type": "code",
   "execution_count": 1,
   "metadata": {
    "collapsed": true
   },
   "outputs": [],
   "source": [
    "import matplotlib.pyplot as plt \n",
    "import numpy as np \n",
    "import pandas as pd"
   ]
  },
  {
   "cell_type": "code",
   "execution_count": 12,
   "metadata": {},
   "outputs": [],
   "source": [
    "testfile='../data/data_set_ALL_AML_independent.csv'\n",
    "trainfile='../data/data_set_ALL_AML_train.csv'\n",
    "patient_cancer='../data/actual.csv'\n",
    "\n",
    "train = pd.read_csv(trainfile)\n",
    "test = pd.read_csv(testfile)\n",
    "patient_cancer = pd.read_csv(patient_cancer)"
   ]
  },
  {
   "cell_type": "code",
   "execution_count": 10,
   "metadata": {},
   "outputs": [],
   "source": [
    "train_keepers = [col for col in train.columns if \"call\" not in col]\n",
    "test_keepers = [col for col in test.columns if \"call\" not in col]\n",
    "\n",
    "train = train[train_keepers]\n",
    "test = test[test_keepers]"
   ]
  },
  {
   "cell_type": "code",
   "execution_count": 15,
   "metadata": {},
   "outputs": [],
   "source": [
    "train = train.transpose()\n",
    "test = test.transpose()"
   ]
  },
  {
   "cell_type": "code",
   "execution_count": null,
   "metadata": {
    "collapsed": true
   },
   "outputs": [],
   "source": []
  }
 ],
 "metadata": {
  "kernelspec": {
   "display_name": "Python 2",
   "language": "python",
   "name": "python2"
  },
  "language_info": {
   "codemirror_mode": {
    "name": "ipython",
    "version": 2
   },
   "file_extension": ".py",
   "mimetype": "text/x-python",
   "name": "python",
   "nbconvert_exporter": "python",
   "pygments_lexer": "ipython2",
   "version": "2.7.14"
  }
 },
 "nbformat": 4,
 "nbformat_minor": 2
}
