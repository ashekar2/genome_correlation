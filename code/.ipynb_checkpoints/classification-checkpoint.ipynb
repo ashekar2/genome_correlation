{
 "cells": [
  {
   "cell_type": "code",
   "execution_count": 88,
   "metadata": {
    "collapsed": true
   },
   "outputs": [],
   "source": [
    "import matplotlib.pyplot as plt \n",
    "import numpy as np \n",
    "import pandas as pd\n",
    "from sklearn import decomposition\n",
    "from sklearn import metrics\n",
    "from sklearn import preprocessing\n",
    "import random"
   ]
  },
  {
   "cell_type": "code",
   "execution_count": 89,
   "metadata": {
    "collapsed": true
   },
   "outputs": [],
   "source": [
    "# METADATA \n",
    "DATASET = 0"
   ]
  },
  {
   "cell_type": "code",
   "execution_count": 90,
   "metadata": {
    "collapsed": true
   },
   "outputs": [],
   "source": [
    "def whiten_data(data):\n",
    "    \"\"\"\n",
    "    Columns have zero mean and unit variance\n",
    "    \"\"\"\n",
    "    return preprocessing.scale(data)"
   ]
  },
  {
   "cell_type": "code",
   "execution_count": 91,
   "metadata": {},
   "outputs": [],
   "source": [
    "if DATASET == 0:\n",
    "    testfile='../data/d1/data_set_ALL_AML_independent.csv'\n",
    "    trainfile='../data/d1/data_set_ALL_AML_train.csv'\n",
    "    patient_cancer='../data/d1/actual.csv'\n",
    "    \n",
    "    # load csv\n",
    "    train = pd.read_csv(trainfile)\n",
    "    test = pd.read_csv(testfile)\n",
    "    patient_cancer = pd.read_csv(patient_cancer)\n",
    "    \n",
    "    # filter columns\n",
    "    train_keepers = [col for col in train.columns if \"call\" not in col]\n",
    "    test_keepers = [col for col in test.columns if \"call\" not in col]\n",
    "    train = train[train_keepers]\n",
    "    test = test[test_keepers]\n",
    "    \n",
    "    # remove columns with text (Gene names)\n",
    "    gene_description = train['Gene Description']\n",
    "    gene_accession_number = train['Gene Accession Number']\n",
    "    train = train.drop(['Gene Description','Gene Accession Number'],axis=1)\n",
    "    test = test.drop(['Gene Description','Gene Accession Number'],axis=1)\n",
    "    \n",
    "    # transpose data to have each row represent a patient\n",
    "    train = train.transpose()\n",
    "    test = test.transpose()\n",
    "    \n",
    "    # zero mean and unit variance the data\n",
    "    train = whiten_data(train)\n",
    "    test = whiten_data(test)\n",
    "    \n",
    "    # initialize the labels for the data\n",
    "    # patient cancer labels to 0 (ALL) and 1 (AML)\n",
    "    patient_cancer = np.array(patient_cancer)\n",
    "    patient_labels = []\n",
    "    for p in patient_cancer:\n",
    "        if p[1] == 'ALL':\n",
    "            patient_labels.append(0)\n",
    "        else:\n",
    "            patient_labels.append(1)\n",
    "    train_labels = patient_labels[0:len(train)]\n",
    "    test_labels = patient_labels[len(train):]"
   ]
  },
  {
   "cell_type": "code",
   "execution_count": 83,
   "metadata": {},
   "outputs": [],
   "source": [
    "if DATASET == 1:\n",
    "    all_data_path ='../data/d2/data.csv'\n",
    "    all_labels_path='../data/d2/labels.csv'\n",
    "    \n",
    "    # load csv\n",
    "    all_data = pd.read_csv(all_data_path)\n",
    "    all_labels = pd.read_csv(all_labels_path)\n",
    "    \n",
    "    # drop first column of all_data\n",
    "    all_data = all_data.as_matrix()\n",
    "    all_data = all_data[:, 1:]\n",
    "    \n",
    "    # drop first column of labels_data\n",
    "    labels_dict = {'BRCA':0, 'KIRC':1, 'PRAD':2, 'LUAD':3, 'COAD':4}\n",
    "    all_labels = all_labels.as_matrix()[:,1]\n",
    "    all_labels_num = []\n",
    "    for label in all_labels:\n",
    "        all_labels_num.append(labels_dict[label])\n",
    "    all_labels_num = np.array(all_labels_num)  \n",
    "    # whiten data\n",
    "    all_data = whiten_data(all_data)\n",
    "    \n",
    "    # randomize indices and split into train and test\n",
    "    indices = [i for i in range(len(all_labels_num))]\n",
    "    random.shuffle(indices)\n",
    "    NUM_TRAIN = int(0.8*len(indices))\n",
    "    train = all_data[indices[:NUM_TRAIN],:]\n",
    "    train_labels = all_labels_num[indices[:NUM_TRAIN]]\n",
    "    test = all_data[indices[NUM_TRAIN:],:]\n",
    "    test_labels = all_labels_num[indices[NUM_TRAIN:]]\n",
    "    "
   ]
  },
  {
   "cell_type": "code",
   "execution_count": 84,
   "metadata": {},
   "outputs": [
    {
     "name": "stdout",
     "output_type": "stream",
     "text": [
      "300\n",
      "146\n",
      "136\n",
      "141\n",
      "78\n"
     ]
    }
   ],
   "source": [
    "# Distribution of class labels\n",
    "print len([a for a in all_labels_num if a == 0])\n",
    "print len([a for a in all_labels_num if a == 1])\n",
    "print len([a for a in all_labels_num if a == 2])\n",
    "print len([a for a in all_labels_num if a == 3])\n",
    "print len([a for a in all_labels_num if a == 4])"
   ]
  },
  {
   "cell_type": "markdown",
   "metadata": {},
   "source": [
    "### PCA Analysis"
   ]
  },
  {
   "cell_type": "code",
   "execution_count": 66,
   "metadata": {
    "collapsed": true
   },
   "outputs": [],
   "source": [
    "from sklearn.decomposition import PCA\n",
    "NUM_COMPONENTS = 2\n",
    "def _pca(data, num_comp):\n",
    "    pca = PCA(n_components=num_comp)\n",
    "    pca.fit(data)\n",
    "    data_pca = pca.transform(data)\n",
    "    return data_pca"
   ]
  },
  {
   "cell_type": "code",
   "execution_count": 67,
   "metadata": {
    "collapsed": true
   },
   "outputs": [],
   "source": [
    "# train\n",
    "train_pca = _pca(train, NUM_COMPONENTS)\n",
    "test_pca = _pca(test, NUM_COMPONENTS)"
   ]
  },
  {
   "cell_type": "code",
   "execution_count": 69,
   "metadata": {},
   "outputs": [
    {
     "data": {
      "image/png": "[encoded data removed]",
      "text/plain": [
       "<matplotlib.figure.Figure at 0x1a0b34f110>"
      ]
     },
     "metadata": {},
     "output_type": "display_data"
    }
   ],
   "source": [
    "train_pca.shape\n",
    "for i,p in enumerate(train_pca):\n",
    "    if train_labels[i] == 0:\n",
    "        plt.scatter(train_pca[i,0], train_pca[i,1], color='r', label='ALL')\n",
    "    else:\n",
    "        plt.scatter(train_pca[i,0], train_pca[i,1], color = 'b', label='AML')\n",
    "\n",
    "plt.show()"
   ]
  },
  {
   "cell_type": "markdown",
   "metadata": {},
   "source": [
    "### Naive Bayes Classifier"
   ]
  },
  {
   "cell_type": "code",
   "execution_count": 70,
   "metadata": {
    "collapsed": true
   },
   "outputs": [],
   "source": [
    "from sklearn.naive_bayes import GaussianNB\n",
    "from sklearn.metrics import accuracy_score\n",
    "def _naive_bayes(ftrain, ftest):\n",
    "    clf = GaussianNB()\n",
    "    clf.fit(ftrain, train_labels)\n",
    "    predicted = clf.predict(ftest)\n",
    "    acc = accuracy_score(test_labels, predicted)\n",
    "#     print(metrics.classification_report(test_labels, predicted))\n",
    "    return acc"
   ]
  },
  {
   "cell_type": "markdown",
   "metadata": {},
   "source": [
    "#### Accuracy VS Number of Components for Naive Bayes"
   ]
  },
  {
   "cell_type": "code",
   "execution_count": 71,
   "metadata": {},
   "outputs": [
    {
     "data": {
      "image/png": "[encoded data removed]",
      "text/plain": [
       "<matplotlib.figure.Figure at 0x1a0c5c3990>"
      ]
     },
     "metadata": {},
     "output_type": "display_data"
    }
   ],
   "source": [
    "max_components = 33\n",
    "accuracies = []\n",
    "for i in range(max_components):\n",
    "    nc = i + 1\n",
    "    nc_pca_train = _pca(train, nc)\n",
    "    nc_pca_test = _pca(test, nc)\n",
    "    accuracies.append(_naive_bayes(nc_pca_train, nc_pca_test))\n",
    "plt.plot([i+1 for i in range(max_components)], accuracies)\n",
    "plt.show()\n",
    "    "
   ]
  },
  {
   "cell_type": "markdown",
   "metadata": {},
   "source": [
    "### SVM Classifier"
   ]
  },
  {
   "cell_type": "code",
   "execution_count": 72,
   "metadata": {},
   "outputs": [
    {
     "name": "stdout",
     "output_type": "stream",
     "text": [
      "             precision    recall  f1-score   support\n",
      "\n",
      "          0       0.98      1.00      0.99        56\n",
      "          1       1.00      0.96      0.98        28\n",
      "          2       1.00      1.00      1.00        29\n",
      "          3       1.00      1.00      1.00        31\n",
      "          4       1.00      1.00      1.00        17\n",
      "\n",
      "avg / total       0.99      0.99      0.99       161\n",
      "\n"
     ]
    }
   ],
   "source": [
    "from sklearn import svm\n",
    "clf = svm.SVC()\n",
    "# Try training on entire feature set\n",
    "clf.fit(train, train_labels)\n",
    "predicted = clf.predict(test)\n",
    "print(metrics.classification_report(test_labels, predicted))\n",
    "\n",
    "def _svm(ftrain, ftest):\n",
    "    clf = svm.SVC()\n",
    "    clf.fit(ftrain, train_labels)\n",
    "    predicted = clf.predict(ftest)\n",
    "    acc = accuracy_score(test_labels, predicted)\n",
    "    return acc"
   ]
  },
  {
   "cell_type": "markdown",
   "metadata": {},
   "source": [
    "#### Accuracy VS Number of Components for SVM"
   ]
  },
  {
   "cell_type": "code",
   "execution_count": 73,
   "metadata": {},
   "outputs": [
    {
     "data": {
      "image/png": "[encoded data removed]",
      "text/plain": [
       "<matplotlib.figure.Figure at 0x1a0c736410>"
      ]
     },
     "metadata": {},
     "output_type": "display_data"
    }
   ],
   "source": [
    "max_components = 33\n",
    "accuracies = []\n",
    "for i in range(max_components):\n",
    "    nc = i + 1\n",
    "    nc_pca_train = _pca(train, nc)\n",
    "    nc_pca_test = _pca(test, nc)\n",
    "    accuracies.append(_svm(nc_pca_train, nc_pca_test))\n",
    "plt.plot([i+1 for i in range(max_components)], accuracies)\n",
    "plt.show()\n"
   ]
  },
  {
   "cell_type": "markdown",
   "metadata": {
    "collapsed": true
   },
   "source": [
    "## F Score Feature Selection"
   ]
  },
  {
   "cell_type": "code",
   "execution_count": 74,
   "metadata": {
    "collapsed": true
   },
   "outputs": [],
   "source": [
    "import fscore_select_k_2 as fsk"
   ]
  },
  {
   "cell_type": "code",
   "execution_count": 75,
   "metadata": {
    "collapsed": true
   },
   "outputs": [],
   "source": [
    "h, w = train.shape\n",
    "fsk_mat = np.zeros((h, w+1))\n",
    "fsk_mat[:,:w] = train\n",
    "fsk_mat[:, w] = train_labels\n",
    "k = 35"
   ]
  },
  {
   "cell_type": "code",
   "execution_count": 76,
   "metadata": {},
   "outputs": [
    {
     "name": "stderr",
     "output_type": "stream",
     "text": [
      "/Users/ajayshekar/anaconda2/lib/python2.7/site-packages/scipy/stats/stats.py:2968: RuntimeWarning: invalid value encountered in double_scalars\n",
      "  f = msb / msw\n"
     ]
    },
    {
     "ename": "KeyboardInterrupt",
     "evalue": "",
     "output_type": "error",
     "traceback": [
      "\u001b[0;31m---------------------------------------------------------------------------\u001b[0m",
      "\u001b[0;31mKeyboardInterrupt\u001b[0m                         Traceback (most recent call last)",
      "\u001b[0;32m<ipython-input-76-68338089df11>\u001b[0m in \u001b[0;36m<module>\u001b[0;34m()\u001b[0m\n\u001b[1;32m      1\u001b[0m \u001b[0mfsk_op\u001b[0m \u001b[0;34m=\u001b[0m \u001b[0mfsk\u001b[0m\u001b[0;34m.\u001b[0m\u001b[0mGeneSelection2\u001b[0m\u001b[0;34m(\u001b[0m\u001b[0mfsk_mat\u001b[0m\u001b[0;34m)\u001b[0m\u001b[0;34m\u001b[0m\u001b[0m\n\u001b[0;32m----> 2\u001b[0;31m \u001b[0mordered_fscore_columns\u001b[0m \u001b[0;34m=\u001b[0m \u001b[0mfsk_op\u001b[0m\u001b[0;34m.\u001b[0m\u001b[0mselect_k\u001b[0m\u001b[0;34m(\u001b[0m\u001b[0mk\u001b[0m\u001b[0;34m)\u001b[0m \u001b[0;31m# sorted list of f scores with the column they correspond to\u001b[0m\u001b[0;34m\u001b[0m\u001b[0m\n\u001b[0m",
      "\u001b[0;32m/Users/ajayshekar/cs598ss/genome_correlation/code/fscore_select_k_2.py\u001b[0m in \u001b[0;36mselect_k\u001b[0;34m(self, k)\u001b[0m\n\u001b[1;32m     17\u001b[0m         \u001b[0;32mfor\u001b[0m \u001b[0mgene_col\u001b[0m \u001b[0;32min\u001b[0m \u001b[0mrange\u001b[0m\u001b[0;34m(\u001b[0m\u001b[0mself\u001b[0m\u001b[0;34m.\u001b[0m\u001b[0mfeatures_mat\u001b[0m\u001b[0;34m.\u001b[0m\u001b[0mshape\u001b[0m\u001b[0;34m[\u001b[0m\u001b[0;36m1\u001b[0m\u001b[0;34m]\u001b[0m\u001b[0;34m-\u001b[0m\u001b[0;36m1\u001b[0m\u001b[0;34m)\u001b[0m\u001b[0;34m:\u001b[0m\u001b[0;34m\u001b[0m\u001b[0m\n\u001b[1;32m     18\u001b[0m             \u001b[0mtmp_classes\u001b[0m \u001b[0;34m=\u001b[0m \u001b[0;34m[\u001b[0m\u001b[0;34m]\u001b[0m\u001b[0;34m\u001b[0m\u001b[0m\n\u001b[0;32m---> 19\u001b[0;31m             \u001b[0;32mfor\u001b[0m \u001b[0mlabel\u001b[0m \u001b[0;32min\u001b[0m \u001b[0mlabels\u001b[0m\u001b[0;34m:\u001b[0m\u001b[0;34m\u001b[0m\u001b[0m\n\u001b[0m\u001b[1;32m     20\u001b[0m                 \u001b[0mtmp_classes\u001b[0m\u001b[0;34m.\u001b[0m\u001b[0mappend\u001b[0m\u001b[0;34m(\u001b[0m\u001b[0mself\u001b[0m\u001b[0;34m.\u001b[0m\u001b[0mfeatures_mat\u001b[0m\u001b[0;34m[\u001b[0m\u001b[0mself\u001b[0m\u001b[0;34m.\u001b[0m\u001b[0mfeatures_mat\u001b[0m\u001b[0;34m[\u001b[0m\u001b[0;34m:\u001b[0m\u001b[0;34m,\u001b[0m\u001b[0;34m-\u001b[0m\u001b[0;36m1\u001b[0m\u001b[0;34m]\u001b[0m\u001b[0;34m==\u001b[0m\u001b[0mlabel\u001b[0m\u001b[0;34m]\u001b[0m\u001b[0;34m[\u001b[0m\u001b[0;34m:\u001b[0m\u001b[0;34m,\u001b[0m\u001b[0mgene_col\u001b[0m\u001b[0;34m]\u001b[0m\u001b[0;34m)\u001b[0m\u001b[0;34m\u001b[0m\u001b[0m\n\u001b[1;32m     21\u001b[0m \u001b[0;34m\u001b[0m\u001b[0m\n",
      "\u001b[0;31mKeyboardInterrupt\u001b[0m: "
     ]
    }
   ],
   "source": [
    "fsk_op = fsk.GeneSelection2(fsk_mat)\n",
    "ordered_fscore_columns = fsk_op.select_k(k) # sorted list of f scores with the column they correspond to"
   ]
  },
  {
   "cell_type": "code",
   "execution_count": 34,
   "metadata": {},
   "outputs": [
    {
     "data": {
      "image/png": "[encoded data removed]",
      "text/plain": [
       "<matplotlib.figure.Figure at 0x1037fd210>"
      ]
     },
     "metadata": {},
     "output_type": "display_data"
    }
   ],
   "source": [
    "# Visualize for classifier X, how does accuracy vary with number of features selected (1 to k)\n",
    "num_components = 30\n",
    "fs_nb_accuracies = []\n",
    "for i in range(num_components):\n",
    "    nc = i + 1\n",
    "    fs_train = train[:, ordered_fscore_columns[:nc]]\n",
    "    fs_test = test[:, ordered_fscore_columns[:nc]]\n",
    "    fs_nb_accuracies.append(_naive_bayes(fs_train, fs_test))\n",
    "plt.plot([i+1 for i in range(num_components)], fs_nb_accuracies)\n",
    "plt.show()"
   ]
  },
  {
   "cell_type": "code",
   "execution_count": 35,
   "metadata": {},
   "outputs": [
    {
     "data": {
      "image/png": "[encoded data removed]",
      "text/plain": [
       "<matplotlib.figure.Figure at 0x1a0ae92cd0>"
      ]
     },
     "metadata": {},
     "output_type": "display_data"
    }
   ],
   "source": [
    "num_components = 30\n",
    "fs_svm_accuracies = []\n",
    "for i in range(num_components):\n",
    "    nc = i + 1\n",
    "    fs_train = train[:, ordered_fscore_columns[:nc]]\n",
    "    fs_test = test[:, ordered_fscore_columns[:nc]]\n",
    "    fs_svm_accuracies.append(_svm(fs_train, fs_test))\n",
    "plt.plot([i+1 for i in range(num_components)], fs_svm_accuracies)\n",
    "plt.show()"
   ]
  },
  {
   "cell_type": "markdown",
   "metadata": {},
   "source": [
    "## DPP Feature Selection"
   ]
  },
  {
   "cell_type": "code",
   "execution_count": 21,
   "metadata": {
    "collapsed": true
   },
   "outputs": [],
   "source": [
    "import sys\n",
    "sys.path.append(\"./dpp\")\n",
    "import dpp"
   ]
  },
  {
   "cell_type": "code",
   "execution_count": 22,
   "metadata": {
    "collapsed": true
   },
   "outputs": [],
   "source": [
    "# sigmas = [0.0001, 0.1, 1, 2, 10]\n",
    "sigmas = [1]\n",
    "k = 1\n",
    "train_cov = np.abs(np.cov(train.T))\n",
    "gene_indices = [i for i in range(train.shape[1])]"
   ]
  },
  {
   "cell_type": "markdown",
   "metadata": {},
   "source": [
    "### Train different classifiers on dpp features."
   ]
  },
  {
   "cell_type": "code",
   "execution_count": 23,
   "metadata": {},
   "outputs": [
    {
     "data": {
      "image/png": "[encoded data removed]",
      "text/plain": [
       "<matplotlib.figure.Figure at 0x1a0be199d0>"
      ]
     },
     "metadata": {},
     "output_type": "display_data"
    }
   ],
   "source": [
    "# Naive Bayes\n",
    "dpp_nb_accuracies = []\n",
    "num_components = 30\n",
    "for i in range(num_components):\n",
    "    nc = i+1\n",
    "    selected_features = dpp.sample_k(gene_indices, train_cov, nc, max_nb_iterations=20000)  \n",
    "    dpp_train = train[:, selected_features]\n",
    "    dpp_test = test[:, selected_features]\n",
    "    dpp_nb_accuracies.append(_naive_bayes(dpp_train, dpp_test))\n",
    "plt.plot([i+1 for i in range(num_components)], dpp_nb_accuracies)\n",
    "plt.show()\n"
   ]
  },
  {
   "cell_type": "code",
   "execution_count": 111,
   "metadata": {},
   "outputs": [
    {
     "data": {
      "image/png": "[encoded data removed]",
      "text/plain": [
       "<matplotlib.figure.Figure at 0x1126dc2d0>"
      ]
     },
     "metadata": {},
     "output_type": "display_data"
    }
   ],
   "source": [
    "# SVM\n",
    "dpp_svm_accuracies = []\n",
    "num_components = 10\n",
    "for i in range(num_components):\n",
    "    nc = i+1\n",
    "    selected_features = dpp.sample_k(gene_indices, train_cov, nc, max_nb_iterations=20000)  \n",
    "    dpp_train = train[:, selected_features]\n",
    "    dpp_test = test[:, selected_features]\n",
    "    dpp_svm_accuracies.append(_svm(dpp_train, dpp_test))\n",
    "plt.plot([i+1 for i in range(num_components)], dpp_svm_accuracies)\n",
    "plt.show()"
   ]
  },
  {
   "cell_type": "markdown",
   "metadata": {},
   "source": [
    "## DPP + FS 50-50"
   ]
  },
  {
   "cell_type": "code",
   "execution_count": 117,
   "metadata": {
    "collapsed": true
   },
   "outputs": [],
   "source": [
    "#this method takes selects k/2 genes from the f-score and k/2 from the DPP\n",
    "def fs_dpp_select_k(k, train, train_cov, fsk_mat):\n",
    "    fsk_obj = fsk.GeneSelection2(fsk_mat)\n",
    "    f_score_genes = fsk_obj.select_k(k)\n",
    "    f_score_genes = set(f_score_genes)\n",
    "    gene_indices = [i for i in range(train.shape[1])]\n",
    "\n",
    "    dpp_k_features = dpp.sample_k(gene_indices, train_cov, k, max_nb_iterations=20000)\n",
    "\n",
    "\n",
    "    for gene in dpp_k_features:\n",
    "            #if we still don't have k genes, then add genes into\n",
    "            if gene not in f_score_genes:\n",
    "                f_score_genes.add(gene)\n",
    "\n",
    "            #we have reached k genes thus we can stop\n",
    "            if len(f_score_genes) == k:\n",
    "                break\n",
    "\n",
    "\n",
    "    return list(f_score_genes)"
   ]
  },
  {
   "cell_type": "markdown",
   "metadata": {
    "collapsed": true
   },
   "source": [
    "# Putting Results Together:"
   ]
  },
  {
   "cell_type": "code",
   "execution_count": 98,
   "metadata": {
    "collapsed": true
   },
   "outputs": [],
   "source": [
    "NUM_FEATURES = [5, 10, 15, 20, 25, 30]"
   ]
  },
  {
   "cell_type": "markdown",
   "metadata": {},
   "source": [
    "## Naive Bayes - Multiple Feature Selection Methods"
   ]
  },
  {
   "cell_type": "markdown",
   "metadata": {},
   "source": [
    "#### 1) PCA"
   ]
  },
  {
   "cell_type": "code",
   "execution_count": 103,
   "metadata": {},
   "outputs": [],
   "source": [
    "nb_pca_acc = []\n",
    "for nf in NUM_FEATURES:\n",
    "    pca_train = _pca(train, nf)\n",
    "    pca_test = _pca(test, nf)\n",
    "    nb_pca_acc.append(_naive_bayes(pca_train, pca_test))"
   ]
  },
  {
   "cell_type": "markdown",
   "metadata": {},
   "source": [
    "#### 2) F Score"
   ]
  },
  {
   "cell_type": "code",
   "execution_count": 105,
   "metadata": {
    "collapsed": true
   },
   "outputs": [],
   "source": [
    "h, w = train.shape\n",
    "fsk_mat = np.zeros((h, w+1))\n",
    "fsk_mat[:,:w] = train\n",
    "fsk_mat[:, w] = train_labels\n",
    "k = 35\n",
    "fsk_op = fsk.GeneSelection2(fsk_mat)\n",
    "ordered_fscore_columns = fsk_op.select_k(k) # sorted list of f scores with the column they correspond to"
   ]
  },
  {
   "cell_type": "code",
   "execution_count": 106,
   "metadata": {
    "collapsed": true
   },
   "outputs": [],
   "source": [
    "nb_fs_acc = []\n",
    "for nf in NUM_FEATURES:\n",
    "    fs_train = train[:, ordered_fscore_columns[:nf]]\n",
    "    fs_test = test[:, ordered_fscore_columns[:nf]]\n",
    "    nb_fs_acc.append(_naive_bayes(fs_train, fs_test))"
   ]
  },
  {
   "cell_type": "markdown",
   "metadata": {},
   "source": [
    "#### 3) DPP"
   ]
  },
  {
   "cell_type": "code",
   "execution_count": 108,
   "metadata": {
    "collapsed": true
   },
   "outputs": [],
   "source": [
    "train_cov = np.abs(np.cov(train.T))\n",
    "gene_indices = [i for i in range(train.shape[1])]"
   ]
  },
  {
   "cell_type": "code",
   "execution_count": 109,
   "metadata": {
    "collapsed": true
   },
   "outputs": [],
   "source": [
    "nb_dpp_acc = []\n",
    "for nf in NUM_FEATURES:\n",
    "    selected_features = dpp.sample_k(gene_indices, train_cov, nf, max_nb_iterations=20000)  \n",
    "    dpp_train = train[:, selected_features]\n",
    "    dpp_test = test[:, selected_features]\n",
    "    nb_dpp_acc.append(_naive_bayes(dpp_train, dpp_test))"
   ]
  },
  {
   "cell_type": "markdown",
   "metadata": {},
   "source": [
    "#### 4) DPP + F Score - 50-50"
   ]
  },
  {
   "cell_type": "code",
   "execution_count": 118,
   "metadata": {},
   "outputs": [
    {
     "name": "stdout",
     "output_type": "stream",
     "text": [
      "[2019, 2918, 1961, 5038, 1744, 5908, 4846, 3319, 1144, 5659]\n",
      "[4129, 2019, 3268, 4582, 3846, 4137, 1833, 460, 4846, 2287, 1744, 3602, 4195, 2548, 5038, 3319, 1336, 2810, 3866, 6431]\n",
      "[3846, 912, 3474, 1557, 4249, 6150, 1833, 4522, 5038, 6200, 3257, 58, 831, 2241, 968, 1993, 460, 1744, 4195, 3157, 4568, 1881, 1248, 2019, 4846, 2287, 3319, 3194, 5116, 4861]\n",
      "[3846, 4360, 777, 6538, 3738, 4271, 3752, 1833, 5038, 1583, 6199, 6200, 3257, 957, 2110, 3647, 2241, 1123, 1990, 2120, 460, 4942, 1744, 6737, 4195, 2134, 6073, 1881, 7003, 1248, 2019, 6372, 3432, 2409, 4846, 2287, 4723, 6644, 3319, 763]\n",
      "[4738, 7045, 3846, 7, 1673, 6538, 3555, 2192, 6802, 3859, 4889, 1054, 6952, 1833, 6827, 5038, 2868, 6199, 6200, 3257, 5820, 2110, 2241, 3394, 2758, 2120, 7114, 460, 5197, 1744, 4195, 4439, 1881, 4442, 5982, 1248, 2401, 2019, 6372, 1387, 1042, 4846, 2287, 2497, 2932, 6324, 3319, 2042, 6011, 6653]\n",
      "[130, 3846, 1673, 6538, 3083, 1581, 5358, 6802, 3604, 6805, 6745, 2656, 5917, 1828, 902, 4390, 2884, 1833, 1453, 5038, 6899, 2185, 6200, 3257, 1339, 2110, 191, 2241, 836, 4805, 2758, 1377, 2120, 6199, 460, 461, 1744, 4195, 1239, 472, 1881, 3678, 1248, 2401, 2019, 6372, 1381, 6375, 1721, 6634, 4846, 2287, 83, 1140, 3319, 1892, 2042, 2171, 6270, 2453]\n"
     ]
    }
   ],
   "source": [
    "nb_dpp_fs_acc = []\n",
    "for nf in NUM_FEATURES:\n",
    "    selected_features = fs_dpp_select_k(nf, train, train_cov, fsk_mat) # uses variables from previous cells\n",
    "    print selected_features\n",
    "    dpp_fs_train = train[:, selected_features]\n",
    "    dpp_fs_test = test[:, selected_features]\n",
    "    nb_dpp_fs_acc.append(_naive_bayes(dpp_fs_train, dpp_fs_test))"
   ]
  },
  {
   "cell_type": "code",
   "execution_count": 119,
   "metadata": {},
   "outputs": [
    {
     "data": {
      "text/plain": [
       "[0.55882352941176472,\n",
       " 0.61764705882352944,\n",
       " 0.61764705882352944,\n",
       " 0.55882352941176472,\n",
       " 0.55882352941176472,\n",
       " 0.55882352941176472]"
      ]
     },
     "execution_count": 119,
     "metadata": {},
     "output_type": "execute_result"
    }
   ],
   "source": [
    "nb_dpp_fs_acc"
   ]
  },
  {
   "cell_type": "markdown",
   "metadata": {},
   "source": [
    "#### Visualize Results"
   ]
  },
  {
   "cell_type": "code",
   "execution_count": null,
   "metadata": {
    "collapsed": true
   },
   "outputs": [],
   "source": []
  }
 ],
 "metadata": {
  "kernelspec": {
   "display_name": "Python 2",
   "language": "python",
   "name": "python2"
  },
  "language_info": {
   "codemirror_mode": {
    "name": "ipython",
    "version": 2
   },
   "file_extension": ".py",
   "mimetype": "text/x-python",
   "name": "python",
   "nbconvert_exporter": "python",
   "pygments_lexer": "ipython2",
   "version": "2.7.14"
  }
 },
 "nbformat": 4,
 "nbformat_minor": 2
}
